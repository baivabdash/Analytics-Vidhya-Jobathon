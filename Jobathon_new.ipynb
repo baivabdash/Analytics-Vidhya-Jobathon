{
  "nbformat": 4,
  "nbformat_minor": 0,
  "metadata": {
    "colab": {
      "name": "Jobathon_new",
      "provenance": [],
      "collapsed_sections": [],
      "toc_visible": true
    },
    "kernelspec": {
      "display_name": "Python 3",
      "name": "python3"
    }
  },
  "cells": [
    {
      "cell_type": "code",
      "metadata": {
        "id": "zFStrepNWnbD"
      },
      "source": [
        "!wget --header 'Host: datahack-prod.s3.amazonaws.com' --user-agent 'Mozilla/5.0 (X11; Ubuntu; Linux x86_64; rv:87.0) Gecko/20100101 Firefox/87.0' --header 'Accept: text/html,application/xhtml+xml,application/xml;q=0.9,image/webp,*/*;q=0.8' --header 'Accept-Language: en-US,en;q=0.5' --header 'Upgrade-Insecure-Requests: 1' 'https://datahack-prod.s3.amazonaws.com/test_file/test_mSzZ8RL.csv' --output-document 'test_mSzZ8RL.csv'\n",
        "!wget --header 'Host: datahack-prod.s3.amazonaws.com' --user-agent 'Mozilla/5.0 (X11; Ubuntu; Linux x86_64; rv:87.0) Gecko/20100101 Firefox/87.0' --header 'Accept: text/html,application/xhtml+xml,application/xml;q=0.9,image/webp,*/*;q=0.8' --header 'Accept-Language: en-US,en;q=0.5' --header 'Upgrade-Insecure-Requests: 1' 'https://datahack-prod.s3.amazonaws.com/train_file/train_s3TEQDk.csv' --output-document 'train_s3TEQDk.csv'"
      ],
      "execution_count": null,
      "outputs": []
    },
    {
      "cell_type": "code",
      "metadata": {
        "id": "f2eV_GboWqyd",
        "colab": {
          "base_uri": "https://localhost:8080/"
        },
        "outputId": "12454e82-e75b-4ac5-8422-f93b29c2790f"
      },
      "source": [
        "import pandas as pd\n",
        "import numpy as np\n",
        "import matplotlib.pyplot as plt\n",
        "import seaborn as sns\n",
        "from sklearn.model_selection import train_test_split\n",
        "from sklearn.preprocessing import OneHotEncoder\n",
        "from sklearn.manifold import TSNE\n",
        "from sklearn.linear_model import LogisticRegression\n",
        "from sklearn.ensemble import RandomForestClassifier\n",
        "from sklearn.metrics import roc_auc_score\n",
        "from sklearn.preprocessing import StandardScaler\n",
        "from sklearn.neighbors import KNeighborsClassifier\n",
        "from sklearn.metrics import log_loss\n",
        "from sklearn.metrics import confusion_matrix\n",
        "from sklearn.model_selection import train_test_split\n",
        "from sklearn.linear_model import LogisticRegression\n",
        "from sklearn.ensemble import RandomForestClassifier\n",
        "from xgboost import XGBClassifier\n",
        "from sklearn.model_selection import RandomizedSearchCV\n",
        "from sklearn.tree import DecisionTreeClassifier\n",
        "from sklearn.calibration import CalibratedClassifierCV\n",
        "from sklearn.linear_model import SGDClassifier\n",
        "from sklearn.metrics import roc_curve, auc\n",
        "from imblearn.over_sampling import RandomOverSampler\n",
        "from imblearn.over_sampling import SMOTE\n",
        "from imblearn.under_sampling import RandomUnderSampler"
      ],
      "execution_count": 4,
      "outputs": [
        {
          "output_type": "stream",
          "text": [
            "/usr/local/lib/python3.7/dist-packages/sklearn/externals/six.py:31: FutureWarning: The module is deprecated in version 0.21 and will be removed in version 0.23 since we've dropped support for Python 2.7. Please rely on the official version of six (https://pypi.org/project/six/).\n",
            "  \"(https://pypi.org/project/six/).\", FutureWarning)\n",
            "/usr/local/lib/python3.7/dist-packages/sklearn/utils/deprecation.py:144: FutureWarning: The sklearn.neighbors.base module is  deprecated in version 0.22 and will be removed in version 0.24. The corresponding classes / functions should instead be imported from sklearn.neighbors. Anything that cannot be imported from sklearn.neighbors is now part of the private API.\n",
            "  warnings.warn(message, FutureWarning)\n"
          ],
          "name": "stderr"
        }
      ]
    },
    {
      "cell_type": "markdown",
      "metadata": {
        "id": "6QJgLHs1_f8G"
      },
      "source": [
        "#**EDA**"
      ]
    },
    {
      "cell_type": "code",
      "metadata": {
        "id": "5AxoWH-JWsaX"
      },
      "source": [
        "train_data=pd.read_csv('/content/train_s3TEQDk.csv')\n",
        "test_data=pd.read_csv('/content/test_mSzZ8RL.csv')"
      ],
      "execution_count": 5,
      "outputs": []
    },
    {
      "cell_type": "code",
      "metadata": {
        "colab": {
          "base_uri": "https://localhost:8080/"
        },
        "id": "4X6nB1gWdfSy",
        "outputId": "0390d1d0-1384-42c7-fb1e-778173c70927"
      },
      "source": [
        "train_data.Is_Lead.value_counts()"
      ],
      "execution_count": 6,
      "outputs": [
        {
          "output_type": "execute_result",
          "data": {
            "text/plain": [
              "0    187437\n",
              "1     58288\n",
              "Name: Is_Lead, dtype: int64"
            ]
          },
          "metadata": {
            "tags": []
          },
          "execution_count": 6
        }
      ]
    },
    {
      "cell_type": "markdown",
      "metadata": {
        "id": "OYJT-Sv0OVrf"
      },
      "source": [
        "Gender"
      ]
    },
    {
      "cell_type": "code",
      "metadata": {
        "colab": {
          "base_uri": "https://localhost:8080/",
          "height": 336
        },
        "id": "oLrHtMPGOlnt",
        "outputId": "b746a02d-2774-4309-adf7-bb22aaf78045"
      },
      "source": [
        "plt.title('Gender distribution')\n",
        "sns.barplot(train_data.Gender.value_counts().index,train_data.Gender.value_counts().values)\n",
        "plt.show()"
      ],
      "execution_count": 16,
      "outputs": [
        {
          "output_type": "stream",
          "text": [
            "/usr/local/lib/python3.7/dist-packages/seaborn/_decorators.py:43: FutureWarning: Pass the following variables as keyword args: x, y. From version 0.12, the only valid positional argument will be `data`, and passing other arguments without an explicit keyword will result in an error or misinterpretation.\n",
            "  FutureWarning\n"
          ],
          "name": "stderr"
        },
        {
          "output_type": "display_data",
          "data": {
            "image/png": "[encoded data removed]",
            "text/plain": [
              "<Figure size 432x288 with 1 Axes>"
            ]
          },
          "metadata": {
            "tags": [],
            "needs_background": "light"
          }
        }
      ]
    },
    {
      "cell_type": "code",
      "metadata": {
        "colab": {
          "base_uri": "https://localhost:8080/",
          "height": 336
        },
        "id": "ggImsLU_LNbF",
        "outputId": "91d8fd39-b8b2-4756-e1d1-c8841fa79834"
      },
      "source": [
        "plt.title('Gender vs Credit card lead')\n",
        "sns.barplot(train_data[train_data.Is_Lead==0].Gender.value_counts().index,train_data[train_data.Is_Lead==0].Gender.value_counts().values)\n",
        "plt.show()"
      ],
      "execution_count": 13,
      "outputs": [
        {
          "output_type": "stream",
          "text": [
            "/usr/local/lib/python3.7/dist-packages/seaborn/_decorators.py:43: FutureWarning: Pass the following variables as keyword args: x, y. From version 0.12, the only valid positional argument will be `data`, and passing other arguments without an explicit keyword will result in an error or misinterpretation.\n",
            "  FutureWarning\n"
          ],
          "name": "stderr"
        },
        {
          "output_type": "display_data",
          "data": {
            "image/png": "[encoded data removed]",
            "text/plain": [
              "<Figure size 432x288 with 1 Axes>"
            ]
          },
          "metadata": {
            "tags": [],
            "needs_background": "light"
          }
        }
      ]
    },
    {
      "cell_type": "code",
      "metadata": {
        "colab": {
          "base_uri": "https://localhost:8080/",
          "height": 336
        },
        "id": "m5pSeSZUOSOu",
        "outputId": "1e71b820-46da-42a5-c092-3bd7bdc18ce9"
      },
      "source": [
        "plt.title('Gender vs Credit card lead')\n",
        "sns.barplot(train_data[train_data.Is_Lead==1].Gender.value_counts().index,train_data[train_data.Is_Lead==1].Gender.value_counts().values)\n",
        "plt.show()"
      ],
      "execution_count": 14,
      "outputs": [
        {
          "output_type": "stream",
          "text": [
            "/usr/local/lib/python3.7/dist-packages/seaborn/_decorators.py:43: FutureWarning: Pass the following variables as keyword args: x, y. From version 0.12, the only valid positional argument will be `data`, and passing other arguments without an explicit keyword will result in an error or misinterpretation.\n",
            "  FutureWarning\n"
          ],
          "name": "stderr"
        },
        {
          "output_type": "display_data",
          "data": {
            "image/png": "[encoded data removed]",
            "text/plain": [
              "<Figure size 432x288 with 1 Axes>"
            ]
          },
          "metadata": {
            "tags": [],
            "needs_background": "light"
          }
        }
      ]
    },
    {
      "cell_type": "markdown",
      "metadata": {
        "id": "JnqCmVJLOYxA"
      },
      "source": [
        "For females we see credit card lead is slightly less in comparison to males"
      ]
    },
    {
      "cell_type": "markdown",
      "metadata": {
        "id": "uNIQF63WO6bG"
      },
      "source": [
        "Age"
      ]
    },
    {
      "cell_type": "code",
      "metadata": {
        "colab": {
          "base_uri": "https://localhost:8080/",
          "height": 350
        },
        "id": "TvnGrYlKO_i8",
        "outputId": "9cd1f8a2-75b2-4521-f5ae-65efc382fd94"
      },
      "source": [
        "plt.boxplot([train_data[train_data.Is_Lead==1].Age,train_data[train_data.Is_Lead==0].Age])\n",
        "plt.title('Age vs Is_Lead')\n",
        "plt.xlabel('Is Lead ')\n",
        "plt.ylabel('Age')\n",
        "plt.show()"
      ],
      "execution_count": 23,
      "outputs": [
        {
          "output_type": "stream",
          "text": [
            "/usr/local/lib/python3.7/dist-packages/numpy/core/_asarray.py:83: VisibleDeprecationWarning: Creating an ndarray from ragged nested sequences (which is a list-or-tuple of lists-or-tuples-or ndarrays with different lengths or shapes) is deprecated. If you meant to do this, you must specify 'dtype=object' when creating the ndarray\n",
            "  return array(a, dtype, copy=False, order=order)\n"
          ],
          "name": "stderr"
        },
        {
          "output_type": "display_data",
          "data": {
            "image/png": "[encoded data removed]",
            "text/plain": [
              "<Figure size 432x288 with 1 Axes>"
            ]
          },
          "metadata": {
            "tags": [],
            "needs_background": "light"
          }
        }
      ]
    },
    {
      "cell_type": "markdown",
      "metadata": {
        "id": "7DtyNyvfQSPh"
      },
      "source": [
        "Region Code"
      ]
    },
    {
      "cell_type": "code",
      "metadata": {
        "colab": {
          "base_uri": "https://localhost:8080/",
          "height": 359
        },
        "id": "ZoI5DjIoQUs5",
        "outputId": "71904d78-fb79-4924-c02b-6f3d362b03c1"
      },
      "source": [
        "temp1=train_data.groupby('Region_Code')['Is_Lead'].agg(lambda x:x.eq(1).sum()).reset_index() #aggregates state wis\n",
        "temp2=train_data.groupby('Region_Code')['Is_Lead'].agg(lambda x:x.eq(0).sum()).reset_index()\n",
        "temp3=temp1['Is_Lead']+temp2['Is_Lead']\n",
        "plt.figure(figsize=(14,5))\n",
        "plt.title('Region_Code vs Is_lead')\n",
        "p1=plt.bar(temp1['Region_Code'],temp3,edgecolor='black',color='teal')\n",
        "p2=plt.bar(temp1['Region_Code'],temp1['Is_Lead'],edgecolor='black',color='lightcoral')\n",
        "plt.ylabel('Quanities')\n",
        "plt.title('% of lead region wise')\n",
        "plt.xticks(temp1['Region_Code'], list(temp1['Region_Code'].values),rotation=90)\n",
        "plt.legend((p1[0], p2[0]), ('Total', 'Leads'))\n",
        "plt.show()"
      ],
      "execution_count": 28,
      "outputs": [
        {
          "output_type": "display_data",
          "data": {
            "image/png": "[encoded data removed]",
            "text/plain": [
              "<Figure size 1008x360 with 1 Axes>"
            ]
          },
          "metadata": {
            "tags": [],
            "needs_background": "light"
          }
        }
      ]
    },
    {
      "cell_type": "markdown",
      "metadata": {
        "id": "CL_CdldGR7Pw"
      },
      "source": [
        "Occupation"
      ]
    },
    {
      "cell_type": "code",
      "metadata": {
        "colab": {
          "base_uri": "https://localhost:8080/",
          "height": 399
        },
        "id": "SxDxuKxcR8po",
        "outputId": "6172a152-b5ad-4baf-a4f0-a820ee20581d"
      },
      "source": [
        "temp1=train_data.groupby('Occupation')['Is_Lead'].agg(lambda x:x.eq(1).sum()).reset_index() #aggregates state wis\n",
        "temp2=train_data.groupby('Occupation')['Is_Lead'].agg(lambda x:x.eq(0).sum()).reset_index()\n",
        "temp3=temp1['Is_Lead']+temp2['Is_Lead']\n",
        "plt.figure(figsize=(14,5))\n",
        "plt.title('Occupation vs Is_lead')\n",
        "p1=plt.bar(temp1['Occupation'],temp3,edgecolor='black',color='teal')\n",
        "p2=plt.bar(temp1['Occupation'],temp1['Is_Lead'],edgecolor='black',color='lightcoral')\n",
        "plt.ylabel('Quanities')\n",
        "plt.title('% of lead Occupation wise')\n",
        "plt.xticks(temp1['Occupation'], list(temp1['Occupation'].values),rotation=90)\n",
        "plt.legend((p1[0], p2[0]), ('Total', 'Leads'))\n",
        "plt.show()"
      ],
      "execution_count": 29,
      "outputs": [
        {
          "output_type": "display_data",
          "data": {
            "image/png": "[encoded data removed]",
            "text/plain": [
              "<Figure size 1008x360 with 1 Axes>"
            ]
          },
          "metadata": {
            "tags": [],
            "needs_background": "light"
          }
        }
      ]
    },
    {
      "cell_type": "markdown",
      "metadata": {
        "id": "kqXJh81tSPje"
      },
      "source": [
        "All entrepreneurs use credit cards.."
      ]
    },
    {
      "cell_type": "markdown",
      "metadata": {
        "id": "smxtXWB6SdUI"
      },
      "source": [
        "Channel code"
      ]
    },
    {
      "cell_type": "code",
      "metadata": {
        "colab": {
          "base_uri": "https://localhost:8080/",
          "height": 339
        },
        "id": "pHzfAvCwSfis",
        "outputId": "fc06851c-9922-48cc-c6a3-e30c50140321"
      },
      "source": [
        "temp1=train_data.groupby('Channel_Code')['Is_Lead'].agg(lambda x:x.eq(1).sum()).reset_index() #aggregates state wis\n",
        "temp2=train_data.groupby('Channel_Code')['Is_Lead'].agg(lambda x:x.eq(0).sum()).reset_index()\n",
        "temp3=temp1['Is_Lead']+temp2['Is_Lead']\n",
        "plt.figure(figsize=(14,5))\n",
        "plt.title('Channel_Code vs Is_lead')\n",
        "p1=plt.bar(temp1['Channel_Code'],temp3,edgecolor='black',color='teal')\n",
        "p2=plt.bar(temp1['Channel_Code'],temp1['Is_Lead'],edgecolor='black',color='lightcoral')\n",
        "plt.ylabel('Quanities')\n",
        "plt.title('% of lead Channel_Code wise')\n",
        "plt.xticks(temp1['Channel_Code'], list(temp1['Channel_Code'].values),rotation=90)\n",
        "plt.legend((p1[0], p2[0]), ('Total', 'Leads'))\n",
        "plt.show()"
      ],
      "execution_count": 31,
      "outputs": [
        {
          "output_type": "display_data",
          "data": {
            "image/png": "[encoded data removed]",
            "text/plain": [
              "<Figure size 1008x360 with 1 Axes>"
            ]
          },
          "metadata": {
            "tags": [],
            "needs_background": "light"
          }
        }
      ]
    },
    {
      "cell_type": "markdown",
      "metadata": {
        "id": "e9ONyyo7SrpK"
      },
      "source": [
        "Vintage"
      ]
    },
    {
      "cell_type": "code",
      "metadata": {
        "colab": {
          "base_uri": "https://localhost:8080/",
          "height": 350
        },
        "id": "MZNTzWuaS2V5",
        "outputId": "21455ab3-47a8-4aba-f43c-75b6379a94c3"
      },
      "source": [
        "plt.boxplot([train_data[train_data.Is_Lead==1].Vintage,train_data[train_data.Is_Lead==0].Vintage])\n",
        "plt.title('Vintage vs Is_Lead')\n",
        "plt.xlabel('Is Lead ')\n",
        "plt.ylabel('Vintage')\n",
        "plt.show()"
      ],
      "execution_count": 40,
      "outputs": [
        {
          "output_type": "stream",
          "text": [
            "/usr/local/lib/python3.7/dist-packages/numpy/core/_asarray.py:83: VisibleDeprecationWarning: Creating an ndarray from ragged nested sequences (which is a list-or-tuple of lists-or-tuples-or ndarrays with different lengths or shapes) is deprecated. If you meant to do this, you must specify 'dtype=object' when creating the ndarray\n",
            "  return array(a, dtype, copy=False, order=order)\n"
          ],
          "name": "stderr"
        },
        {
          "output_type": "display_data",
          "data": {
            "image/png": "[encoded data removed]",
            "text/plain": [
              "<Figure size 432x288 with 1 Axes>"
            ]
          },
          "metadata": {
            "tags": [],
            "needs_background": "light"
          }
        }
      ]
    },
    {
      "cell_type": "markdown",
      "metadata": {
        "id": "K_LOXmnDS-3i"
      },
      "source": [
        "Average Account Balance"
      ]
    },
    {
      "cell_type": "code",
      "metadata": {
        "colab": {
          "base_uri": "https://localhost:8080/",
          "height": 350
        },
        "id": "_Rm2T7GDTF86",
        "outputId": "c1c7104c-29d0-4119-de02-338f726ce140"
      },
      "source": [
        "plt.boxplot([train_data[train_data.Is_Lead==1].Avg_Account_Balance,train_data[train_data.Is_Lead==0].Avg_Account_Balance])\n",
        "plt.title('Avg_Account_Balance vs Is_Lead')\n",
        "plt.xlabel('Is Lead ')\n",
        "plt.ylabel('Avg_Account_Balance')\n",
        "plt.show()"
      ],
      "execution_count": 33,
      "outputs": [
        {
          "output_type": "stream",
          "text": [
            "/usr/local/lib/python3.7/dist-packages/numpy/core/_asarray.py:83: VisibleDeprecationWarning: Creating an ndarray from ragged nested sequences (which is a list-or-tuple of lists-or-tuples-or ndarrays with different lengths or shapes) is deprecated. If you meant to do this, you must specify 'dtype=object' when creating the ndarray\n",
            "  return array(a, dtype, copy=False, order=order)\n"
          ],
          "name": "stderr"
        },
        {
          "output_type": "display_data",
          "data": {
            "image/png": "[encoded data removed]",
            "text/plain": [
              "<Figure size 432x288 with 1 Axes>"
            ]
          },
          "metadata": {
            "tags": [],
            "needs_background": "light"
          }
        }
      ]
    },
    {
      "cell_type": "markdown",
      "metadata": {
        "id": "IGnEm4m7TeGq"
      },
      "source": [
        "Is active"
      ]
    },
    {
      "cell_type": "code",
      "metadata": {
        "colab": {
          "base_uri": "https://localhost:8080/",
          "height": 342
        },
        "id": "-i7HnJP5Thw7",
        "outputId": "2e1959fe-39d6-46d7-aace-9e8f9b5ea8ba"
      },
      "source": [
        "temp1=train_data.groupby('Is_Active')['Is_Lead'].agg(lambda x:x.eq('Yes').count()).reset_index() #aggregates state wis\n",
        "temp2=train_data.groupby('Is_Active')['Is_Lead'].agg(lambda x:x.eq('No').count()).reset_index()\n",
        "temp3=temp1['Is_Lead']+temp2['Is_Lead']\n",
        "plt.figure(figsize=(14,5))\n",
        "plt.title('Is_Active vs Is_lead')\n",
        "p1=plt.bar(temp1['Is_Active'],temp3,edgecolor='black',color='teal')\n",
        "p2=plt.bar(temp1['Is_Active'],temp1['Is_Lead'],edgecolor='black',color='lightcoral')\n",
        "plt.ylabel('Quanities')\n",
        "plt.title('% of lead Is_Active wise')\n",
        "plt.xticks(temp1['Is_Active'], list(temp1['Is_Active'].values),rotation=90)\n",
        "plt.legend((p1[0], p2[0]), ('Total', 'Leads'))\n",
        "plt.show()"
      ],
      "execution_count": 35,
      "outputs": [
        {
          "output_type": "display_data",
          "data": {
            "image/png": "[encoded data removed]",
            "text/plain": [
              "<Figure size 1008x360 with 1 Axes>"
            ]
          },
          "metadata": {
            "tags": [],
            "needs_background": "light"
          }
        }
      ]
    },
    {
      "cell_type": "markdown",
      "metadata": {
        "id": "YRceDJ_NVH6T"
      },
      "source": [
        "Credit product"
      ]
    },
    {
      "cell_type": "code",
      "metadata": {
        "colab": {
          "base_uri": "https://localhost:8080/",
          "height": 342
        },
        "id": "W12LrwAXVKxG",
        "outputId": "79960683-f84e-4d59-dae3-adc35f32ab80"
      },
      "source": [
        "temp1=train_data.groupby('Credit_Product')['Is_Lead'].agg(lambda x:x.eq('Yes').count()).reset_index() #aggregates state wis\n",
        "temp2=train_data.groupby('Credit_Product')['Is_Lead'].agg(lambda x:x.eq('No').count()).reset_index()\n",
        "temp3=temp1['Is_Lead']+temp2['Is_Lead']\n",
        "plt.figure(figsize=(14,5))\n",
        "plt.title('Credit_Product \t vs Is_lead')\n",
        "p1=plt.bar(temp1['Credit_Product'],temp3,edgecolor='black',color='teal')\n",
        "p2=plt.bar(temp1['Credit_Product'],temp1['Is_Lead'],edgecolor='black',color='lightcoral')\n",
        "plt.ylabel('Quanities')\n",
        "plt.title('% of lead Credit_Product wise')\n",
        "plt.xticks(temp1['Credit_Product'], list(temp1['Credit_Product'].values),rotation=90)\n",
        "plt.legend((p1[0], p2[0]), ('Total', 'Leads'))\n",
        "plt.show()"
      ],
      "execution_count": 43,
      "outputs": [
        {
          "output_type": "display_data",
          "data": {
            "image/png": "[encoded data removed]",
            "text/plain": [
              "<Figure size 1008x360 with 1 Axes>"
            ]
          },
          "metadata": {
            "tags": [],
            "needs_background": "light"
          }
        }
      ]
    },
    {
      "cell_type": "markdown",
      "metadata": {
        "id": "3TyQZui7Vn48"
      },
      "source": [
        "#**Preprocessing**"
      ]
    },
    {
      "cell_type": "code",
      "metadata": {
        "id": "XhTZstZeWucD"
      },
      "source": [
        "ID=test_data['ID']"
      ],
      "execution_count": 84,
      "outputs": []
    },
    {
      "cell_type": "code",
      "metadata": {
        "id": "kOr7hJ8FWwcO"
      },
      "source": [
        "#label coding Gender\n",
        "train_data['Gender']=train_data.Gender.map({'Female':0,'Male':1})\n",
        "test_data['Gender']=test_data.Gender.map({'Female':0,'Male':1})"
      ],
      "execution_count": 85,
      "outputs": []
    },
    {
      "cell_type": "code",
      "metadata": {
        "id": "G8I8fzZPWyVm"
      },
      "source": [
        "train_data['Credit_Product']=train_data.Credit_Product.map({'No':0,'Yes':1})\n",
        "test_data['Credit_Product']=test_data.Credit_Product.map({'No':0,'Yes':1})"
      ],
      "execution_count": 86,
      "outputs": []
    },
    {
      "cell_type": "code",
      "metadata": {
        "id": "L7N8IuXOW0fb"
      },
      "source": [
        "train_data['Is_Active']=train_data.Is_Active.map({'No':0,'Yes':1})\n",
        "test_data['Is_Active']=test_data.Is_Active.map({'No':0,'Yes':1})"
      ],
      "execution_count": 87,
      "outputs": []
    },
    {
      "cell_type": "code",
      "metadata": {
        "id": "UZN8oqKpW5dU"
      },
      "source": [
        "ohe=OneHotEncoder()\n",
        "Occ_ohe_tr=ohe.fit_transform(np.array(train_data.Occupation).reshape(-1,1)).toarray()\n",
        "Occ_ohe_te=ohe.transform(np.array(test_data.Occupation).reshape(-1,1)).toarray()\n",
        "Occ_tr=pd.DataFrame(Occ_ohe_tr)\n",
        "Occ_tr.columns=['Occ'+str(i) for i in Occ_tr.columns]\n",
        "Occ_te=pd.DataFrame(Occ_ohe_te)\n",
        "Occ_te.columns=['Occ'+str(i) for i in Occ_te.columns]"
      ],
      "execution_count": 90,
      "outputs": []
    },
    {
      "cell_type": "code",
      "metadata": {
        "id": "ml5eG-3rW72f"
      },
      "source": [
        "ohe=OneHotEncoder()\n",
        "Chnl_code_ohe_tr=ohe.fit_transform(np.array(train_data.Channel_Code).reshape(-1,1)).toarray()\n",
        "Chnl_code_ohe_te=ohe.transform(np.array(test_data.Channel_Code).reshape(-1,1)).toarray()\n",
        "Chnl_code_tr=pd.DataFrame(Chnl_code_ohe_tr)\n",
        "Chnl_code_tr.columns=['Chnl'+str(i) for i in Chnl_code_tr.columns]\n",
        "Chnl_code_te=pd.DataFrame(Chnl_code_ohe_te)\n",
        "Chnl_code_te.columns=['Chnl'+str(i) for i in Chnl_code_te.columns]"
      ],
      "execution_count": 91,
      "outputs": []
    },
    {
      "cell_type": "code",
      "metadata": {
        "id": "7_8adgREW9jF"
      },
      "source": [
        "train_data.drop(['ID','Occupation','Channel_Code'],axis=1,inplace=True)\n",
        "test_data.drop(['ID','Occupation','Channel_Code'],axis=1,inplace=True)"
      ],
      "execution_count": 92,
      "outputs": []
    },
    {
      "cell_type": "code",
      "metadata": {
        "id": "_SWxTo3oaOrE"
      },
      "source": [
        "#engineered feature\n",
        "nan_pres_tr=train_data.Credit_Product.isna()\n",
        "nan_pres_te=test_data.Credit_Product.isna()\n",
        "train_data['Credit_nan']=1*nan_pres_tr\n",
        "test_data['Credit_nan']=1*nan_pres_te"
      ],
      "execution_count": 93,
      "outputs": []
    },
    {
      "cell_type": "code",
      "metadata": {
        "colab": {
          "base_uri": "https://localhost:8080/"
        },
        "id": "4u4dZZvtiCjz",
        "outputId": "c181bbc9-f84a-4bc0-f5ed-2738074dbf96"
      },
      "source": [
        "cp_tr=train_data[train_data.Credit_Product.notna()]\n",
        "cp_te=train_data[train_data.Credit_Product.isna()]\n",
        "y_cp_tr=cp_tr['Credit_Product']\n",
        "cp_tr.drop('Credit_Product',axis=1,inplace=True)\n",
        "cp_te.drop('Credit_Product',axis=1,inplace=True)\n",
        "cp_tr.drop('Region_Code',axis=1,inplace=True)\n",
        "cp_te.drop('Region_Code',axis=1,inplace=True)\n",
        "cp_tr.drop('Is_Lead',axis=1,inplace=True)\n",
        "cp_te.drop('Is_Lead',axis=1,inplace=True)"
      ],
      "execution_count": 94,
      "outputs": [
        {
          "output_type": "stream",
          "text": [
            "/usr/local/lib/python3.7/dist-packages/pandas/core/frame.py:4174: SettingWithCopyWarning: \n",
            "A value is trying to be set on a copy of a slice from a DataFrame\n",
            "\n",
            "See the caveats in the documentation: https://pandas.pydata.org/pandas-docs/stable/user_guide/indexing.html#returning-a-view-versus-a-copy\n",
            "  errors=errors,\n"
          ],
          "name": "stderr"
        }
      ]
    },
    {
      "cell_type": "markdown",
      "metadata": {
        "id": "dI3S_XiWV2ke"
      },
      "source": [
        "Doing a model based imputation of NaNs"
      ]
    },
    {
      "cell_type": "code",
      "metadata": {
        "id": "0flQzRobiJp8"
      },
      "source": [
        "xcp_tr,xcp_te,ycp_tr,ycp_te=train_test_split(cp_tr,y_cp_tr,test_size=0.2,random_state=5)"
      ],
      "execution_count": 95,
      "outputs": []
    },
    {
      "cell_type": "code",
      "metadata": {
        "colab": {
          "base_uri": "https://localhost:8080/"
        },
        "id": "gVHbd96plFLi",
        "outputId": "a28e80d7-74be-44e9-cdb7-f7ebb557ce73"
      },
      "source": [
        "clf=XGBClassifier(n_estimators=1000)\n",
        "clf.fit(xcp_tr,ycp_tr)\n",
        "clf.score(xcp_te,ycp_te)"
      ],
      "execution_count": 96,
      "outputs": [
        {
          "output_type": "execute_result",
          "data": {
            "text/plain": [
              "0.7134704251386321"
            ]
          },
          "metadata": {
            "tags": []
          },
          "execution_count": 96
        }
      ]
    },
    {
      "cell_type": "code",
      "metadata": {
        "id": "6QLN4hNBiMWk"
      },
      "source": [
        "y_cp_te=clf.predict(cp_te)"
      ],
      "execution_count": 97,
      "outputs": []
    },
    {
      "cell_type": "code",
      "metadata": {
        "id": "I6SoXhX_lEKa"
      },
      "source": [
        "loc=train_data[train_data.Credit_Product.isna()]['Credit_Product'].index"
      ],
      "execution_count": 98,
      "outputs": []
    },
    {
      "cell_type": "code",
      "metadata": {
        "id": "pE-Raoi2lIkw",
        "colab": {
          "base_uri": "https://localhost:8080/"
        },
        "outputId": "794d0fd4-f04d-4704-b119-2f19120031ba"
      },
      "source": [
        "train_data.Credit_Product.loc[loc]=y_cp_te"
      ],
      "execution_count": 99,
      "outputs": [
        {
          "output_type": "stream",
          "text": [
            "/usr/local/lib/python3.7/dist-packages/pandas/core/indexing.py:670: SettingWithCopyWarning: \n",
            "A value is trying to be set on a copy of a slice from a DataFrame\n",
            "\n",
            "See the caveats in the documentation: https://pandas.pydata.org/pandas-docs/stable/user_guide/indexing.html#returning-a-view-versus-a-copy\n",
            "  iloc._setitem_with_indexer(indexer, value)\n"
          ],
          "name": "stderr"
        }
      ]
    },
    {
      "cell_type": "code",
      "metadata": {
        "id": "0eDncJAhyzMp"
      },
      "source": [
        "test_cp=test_data[test_data.Credit_Product.isna()]\n",
        "test_cp.drop(['Credit_Product','Region_Code'],axis=1,inplace=True)\n",
        "y_cp_test=clf.predict(test_cp)"
      ],
      "execution_count": null,
      "outputs": []
    },
    {
      "cell_type": "code",
      "metadata": {
        "id": "5VveI41eW_as"
      },
      "source": [
        "loc=test_data[test_data.Credit_Product.isna()]['Credit_Product'].index\n",
        "test_data.Credit_Product.loc[loc]=y_cp_test"
      ],
      "execution_count": null,
      "outputs": []
    },
    {
      "cell_type": "code",
      "metadata": {
        "id": "QLMYM8UUXBVy"
      },
      "source": [
        "train_y=train_data.Is_Lead\n",
        "train_data.drop('Is_Lead',axis=1,inplace=True)"
      ],
      "execution_count": 102,
      "outputs": []
    },
    {
      "cell_type": "code",
      "metadata": {
        "id": "2bEnyG99XC4H"
      },
      "source": [
        "train_merge=pd.concat([train_data,Chnl_code_tr,Occ_tr],axis=1)\n",
        "test_merge=pd.concat([test_data,Chnl_code_te,Occ_te],axis=1)"
      ],
      "execution_count": 103,
      "outputs": []
    },
    {
      "cell_type": "code",
      "metadata": {
        "id": "nOOsS94WqViM"
      },
      "source": [
        "train_merge.drop(['Gender','Avg_Account_Balance'],axis=1,inplace=True)\n",
        "test_merge.drop(['Gender','Avg_Account_Balance'],axis=1,inplace=True)"
      ],
      "execution_count": 105,
      "outputs": []
    },
    {
      "cell_type": "markdown",
      "metadata": {
        "id": "5DvnJ4UMWA0M"
      },
      "source": [
        "#**Modelling**"
      ]
    },
    {
      "cell_type": "code",
      "metadata": {
        "id": "A9ea4Pr0XE9F"
      },
      "source": [
        "#Train test split\n",
        "X_train,X_test,y_train,y_test=train_test_split(train_merge,train_y,test_size=0.2)"
      ],
      "execution_count": 106,
      "outputs": []
    },
    {
      "cell_type": "code",
      "metadata": {
        "id": "qpz0oFwomzMJ"
      },
      "source": [
        "#Response coding categorial feature region code\n",
        "def response_coder(X_train_X):\n",
        "    '''This function predicts probability of categorical data in a column for each class'''\n",
        "    sch_dict=dict()\n",
        "    for i in X_train['Region_Code'].unique():\n",
        "      den=X_train_X['Region_Code'][X_train_X['Region_Code']==i].count()\n",
        "      nu=X_train_X[X_train_X['Region_Code']==i]\n",
        "      num0=nu['Region_Code'][nu['Y']==0].count()\n",
        "      num1=nu['Region_Code'][nu['Y']==1].count()\n",
        "      sch_dict[i]=num0/den,num1/den\n",
        "    return sch_dict"
      ],
      "execution_count": 107,
      "outputs": []
    },
    {
      "cell_type": "code",
      "metadata": {
        "id": "ZR2MtGHvn0p8"
      },
      "source": [
        "X_train_X=X_train.copy()\n",
        "X_train_X['Y']=y_train"
      ],
      "execution_count": 108,
      "outputs": []
    },
    {
      "cell_type": "code",
      "metadata": {
        "colab": {
          "base_uri": "https://localhost:8080/"
        },
        "id": "wM1vcJH3oOCC",
        "outputId": "f0aaa505-f1b5-4c51-cd40-2cbce6a61b2d"
      },
      "source": [
        "#vectorizing categorical features :Regionalcode\n",
        "Reg_zero=[]\n",
        "Reg_ones=[]\n",
        "Reg_zero_te=[]\n",
        "Reg_ones_te=[]\n",
        "school_dict=response_coder(X_train_X)\n",
        "for i in X_train['Region_Code']:\n",
        "  Reg_zero.append(school_dict.get(i)[0])\n",
        "  Reg_ones.append(school_dict.get(i)[1])\n",
        "print('Response coding done...')\n",
        "for i in X_test['Region_Code']:\n",
        "  if i in school_dict.keys():\n",
        "    Reg_zero_te.append(school_dict.get(i)[0])\n",
        "    Reg_ones_te.append(school_dict.get(i)[1])\n",
        "  else:\n",
        "    Reg_zero_te.append(0.5)\n",
        "    Reg_ones_te.append(0.5)"
      ],
      "execution_count": 109,
      "outputs": [
        {
          "output_type": "stream",
          "text": [
            "Response coding done...\n"
          ],
          "name": "stdout"
        }
      ]
    },
    {
      "cell_type": "code",
      "metadata": {
        "id": "SffaYeK5go-V"
      },
      "source": [
        "Reg_zero_test=[]\n",
        "Reg_ones_test=[]\n",
        "for i in test_merge['Region_Code']:\n",
        "  if i in school_dict.keys():\n",
        "    Reg_zero_test.append(school_dict.get(i)[0])\n",
        "    Reg_ones_test.append(school_dict.get(i)[1])\n",
        "  else:\n",
        "    Reg_zero_test.append(0.5)\n",
        "    Reg_ones_test.append(0.5)"
      ],
      "execution_count": 110,
      "outputs": []
    },
    {
      "cell_type": "code",
      "metadata": {
        "id": "K8DMsLI4g6Fm"
      },
      "source": [
        "test_merge['Reg1']=Reg_ones_test\n",
        "test_merge['Reg0']=Reg_zero_test\n",
        "test_merge.drop('Region_Code',axis=1,inplace=True)"
      ],
      "execution_count": 111,
      "outputs": []
    },
    {
      "cell_type": "code",
      "metadata": {
        "id": "T7l-vq5mppCe"
      },
      "source": [
        "X_train['Reg1']=Reg_ones\n",
        "X_train['Reg0']=Reg_zero\n",
        "X_test['Reg1']=Reg_ones_te\n",
        "X_test['Reg0']=Reg_zero_te\n",
        "X_train.drop(['Region_Code'],axis=1,inplace=True)\n",
        "X_test.drop('Region_Code',axis=1,inplace=True)"
      ],
      "execution_count": null,
      "outputs": []
    },
    {
      "cell_type": "code",
      "metadata": {
        "colab": {
          "base_uri": "https://localhost:8080/"
        },
        "id": "P31D-WjPWQjs",
        "outputId": "b52cf979-ebc2-4eea-a1d5-64f6d1dbaa02"
      },
      "source": [
        "undersample = RandomOverSampler(sampling_strategy='minority')\n",
        "X_under, y_under = undersample.fit_resample(X_train, y_train)"
      ],
      "execution_count": 113,
      "outputs": [
        {
          "output_type": "stream",
          "text": [
            "/usr/local/lib/python3.7/dist-packages/sklearn/utils/deprecation.py:87: FutureWarning: Function safe_indexing is deprecated; safe_indexing is deprecated in version 0.22 and will be removed in version 0.24.\n",
            "  warnings.warn(msg, category=FutureWarning)\n"
          ],
          "name": "stderr"
        }
      ]
    },
    {
      "cell_type": "code",
      "metadata": {
        "id": "v6V1r_MdXG9M"
      },
      "source": [
        "def plot_confusion_matrix(test_y, predict_y):\n",
        "    C = confusion_matrix(test_y, predict_y)\n",
        "    print(\"Number of misclassified points \",(len(test_y)-np.trace(C))/len(test_y)*100)\n",
        "    A =(((C.T)/(C.sum(axis=1))).T)    \n",
        "    B =(C/C.sum(axis=0))\n",
        "    labels = [0,1]\n",
        "    cmap=sns.light_palette(\"green\")\n",
        "    # representing A in heatmap format\n",
        "    print(\"-\"*50, \"Confusion matrix\", \"-\"*50)\n",
        "    plt.figure(figsize=(10,5))\n",
        "    sns.heatmap(C, annot=True, cmap=cmap, fmt=\".3f\", xticklabels=labels, yticklabels=labels)\n",
        "    plt.xlabel('Predicted Class')\n",
        "    plt.ylabel('Original Class')\n",
        "    plt.show()\n",
        "    print(\"-\"*50, \"Precision matrix\", \"-\"*50)\n",
        "    plt.figure(figsize=(10,5))\n",
        "    sns.heatmap(B, annot=True, cmap=cmap, fmt=\".3f\", xticklabels=labels, yticklabels=labels)\n",
        "    plt.xlabel('Predicted Class')\n",
        "    plt.ylabel('Original Class')\n",
        "    plt.show()\n",
        "    print(\"Sum of columns in precision matrix\",B.sum(axis=0))\n",
        "    # representing B in heatmap format\n",
        "    print(\"-\"*50, \"Recall matrix\"    , \"-\"*50)\n",
        "    plt.figure(figsize=(10,5))\n",
        "    sns.heatmap(A, annot=True, cmap=cmap, fmt=\".3f\", xticklabels=labels, yticklabels=labels)\n",
        "    plt.xlabel('Predicted Class')\n",
        "    plt.ylabel('Original Class')\n",
        "    plt.show()\n",
        "    print(\"Sum of rows in precision matrix\",A.sum(axis=1))"
      ],
      "execution_count": 43,
      "outputs": []
    },
    {
      "cell_type": "markdown",
      "metadata": {
        "id": "q3Y785wRWRGn"
      },
      "source": [
        "Random Forest"
      ]
    },
    {
      "cell_type": "code",
      "metadata": {
        "colab": {
          "base_uri": "https://localhost:8080/",
          "height": 1000
        },
        "id": "H7Nq9zIaqzFz",
        "outputId": "f29d7316-fafa-4001-f8df-77a57cd20bf1"
      },
      "source": [
        "#Random forest classifier\n",
        "from sklearn.metrics import roc_auc_score\n",
        "from sklearn.metrics import auc\n",
        "from sklearn.metrics import roc_curve\n",
        "alpha=[250,500,1000,115]\n",
        "cv_log_error_array=[]\n",
        "train_log_error_array=[]\n",
        "from sklearn.ensemble import RandomForestClassifier\n",
        "for i in alpha:\n",
        "    r_cfl=RandomForestClassifier(n_estimators=i,random_state=42,n_jobs=-1,min_samples_split=10,max_depth=7,class_weight='balanced')\n",
        "    r_cfl.fit(X_train,y_train)\n",
        "    predict_y = r_cfl.predict_proba(X_train)\n",
        "    cv_log_error_array.append(roc_auc_score(y_train, predict_y[:,1]))\n",
        "\n",
        "for i in range(len(cv_log_error_array)):\n",
        "    print ('log_loss for c = ',alpha[i],'is',cv_log_error_array[i])\n",
        "\n",
        "\n",
        "best_alpha = np.argmax(cv_log_error_array)\n",
        "\n",
        "fig, ax = plt.subplots()\n",
        "ax.plot(alpha, cv_log_error_array,c='g')\n",
        "for i, txt in enumerate(np.round(cv_log_error_array,3)):\n",
        "    ax.annotate((alpha[i],np.round(txt,3)), (alpha[i],cv_log_error_array[i]))\n",
        "plt.grid()\n",
        "plt.title(\"Cross Validation Error for each alpha\")\n",
        "plt.xlabel(\"Alpha i's\")\n",
        "plt.ylabel(\"Error measure\")\n",
        "plt.show()\n",
        "\n",
        "\n",
        "r_cfl=RandomForestClassifier(n_estimators=alpha[best_alpha],random_state=42,n_jobs=-1,min_samples_split=10,max_depth=7)\n",
        "r_cfl.fit(X_train,y_train)\n",
        "\n",
        "predict_y = r_cfl.predict_proba(X_train)\n",
        "print('For values of best alpha = ', alpha[best_alpha], \"The train log loss is:\",roc_auc_score(y_train, predict_y[:,\n",
        "predict_y = r_cfl.predict_proba(X_test)\n",
        "print('For values of best alpha = ', alpha[best_alpha], \"The test log loss is:\",roc_auc_score(y_test, predict_y[:,1]))\n",
        "plot_confusion_matrix(y_test, r_cfl.predict(X_test))"
      ],
      "execution_count": null,
      "outputs": [
        {
          "output_type": "stream",
          "text": [
            "log_loss for c =  250 is 0.8701729324843331\n",
            "log_loss for c =  500 is 0.8701097643380595\n",
            "log_loss for c =  1000 is 0.8700741657690005\n",
            "log_loss for c =  115 is 0.8700922197689895\n"
          ],
          "name": "stdout"
        },
        {
          "output_type": "display_data",
          "data": {
            "image/png": "[encoded data removed]",
            "text/plain": [
              "<Figure size 432x288 with 1 Axes>"
            ]
          },
          "metadata": {
            "tags": [],
            "needs_background": "light"
          }
        },
        {
          "output_type": "stream",
          "text": [
            "For values of best alpha =  250 The train log loss is: 0.8704458036727161\n",
            "For values of best alpha =  250 The test log loss is: 0.8696082648989103\n",
            "Number of misclassified points  14.290365245701494\n",
            "-------------------------------------------------- Confusion matrix --------------------------------------------------\n"
          ],
          "name": "stdout"
        },
        {
          "output_type": "display_data",
          "data": {
            "image/png": "[encoded data removed]",
            "text/plain": [
              "<Figure size 720x360 with 2 Axes>"
            ]
          },
          "metadata": {
            "tags": [],
            "needs_background": "light"
          }
        },
        {
          "output_type": "stream",
          "text": [
            "-------------------------------------------------- Precision matrix --------------------------------------------------\n"
          ],
          "name": "stdout"
        },
        {
          "output_type": "display_data",
          "data": {
            "image/png": "[encoded data removed]",
            "text/plain": [
              "<Figure size 720x360 with 2 Axes>"
            ]
          },
          "metadata": {
            "tags": [],
            "needs_background": "light"
          }
        },
        {
          "output_type": "stream",
          "text": [
            "Sum of columns in precision matrix [1. 1.]\n",
            "-------------------------------------------------- Recall matrix --------------------------------------------------\n"
          ],
          "name": "stdout"
        },
        {
          "output_type": "display_data",
          "data": {
            "image/png": "[encoded data removed]",
            "text/plain": [
              "<Figure size 720x360 with 2 Axes>"
            ]
          },
          "metadata": {
            "tags": [],
            "needs_background": "light"
          }
        },
        {
          "output_type": "stream",
          "text": [
            "Sum of rows in precision matrix [1. 1.]\n"
          ],
          "name": "stdout"
        }
      ]
    },
    {
      "cell_type": "code",
      "metadata": {
        "colab": {
          "base_uri": "https://localhost:8080/",
          "height": 607
        },
        "id": "sILQQ_UiZnpi",
        "outputId": "d1dc9afe-f23d-422a-fec5-a7bd86bff9ab"
      },
      "source": [
        "features=X_train.columns\n",
        "coef = pd.Series(r_cfl.feature_importances_,features).sort_values()\n",
        "plt.figure(figsize=(8,10))\n",
        "plt.title('Feature importances')\n",
        "sns.barplot(x=r_cfl.feature_importances_,y=features,palette='dark:salmon_r')\n",
        "plt.show()"
      ],
      "execution_count": null,
      "outputs": [
        {
          "output_type": "display_data",
          "data": {
            "image/png": "[encoded data removed]",
            "text/plain": [
              "<Figure size 576x720 with 1 Axes>"
            ]
          },
          "metadata": {
            "tags": [],
            "needs_background": "light"
          }
        }
      ]
    },
    {
      "cell_type": "markdown",
      "metadata": {
        "id": "jPE02sG8WUlw"
      },
      "source": [
        "XGBoost"
      ]
    },
    {
      "cell_type": "code",
      "metadata": {
        "colab": {
          "base_uri": "https://localhost:8080/",
          "height": 1000
        },
        "id": "cJ7kCmYNX8qR",
        "outputId": "84e260aa-7215-45f1-8f63-c8ae82492e67"
      },
      "source": [
        "#XGboost\n",
        "alpha=[500,1000,2000]\n",
        "cv_log_error_array=[]\n",
        "train_log_error_array=[]\n",
        "for i in alpha:\n",
        "    r_cfl=XGBClassifier(n_estimators=i,nthread=-1,subsample=0.8,colsample_bylevel=0.8,colsample_bynode=0.6)\n",
        "    r_cfl.fit(X_train,y_train)\n",
        "    predict_y = r_cfl.predict_proba(X_train)\n",
        "    cv_log_error_array.append(roc_auc_score(y_train, predict_y[:,1]))\n",
        "\n",
        "for i in range(len(cv_log_error_array)):\n",
        "    print ('log_loss for c = ',alpha[i],'is',cv_log_error_array[i])\n",
        "\n",
        "\n",
        "best_alpha = np.argmax(cv_log_error_array)\n",
        "\n",
        "fig, ax = plt.subplots()\n",
        "ax.plot(alpha, cv_log_error_array,c='g')\n",
        "for i, txt in enumerate(np.round(cv_log_error_array,3)):\n",
        "    ax.annotate((alpha[i],np.round(txt,3)), (alpha[i],cv_log_error_array[i]))\n",
        "plt.grid()\n",
        "plt.title(\"Cross Validation Error for each alpha\")\n",
        "plt.xlabel(\"Alpha i's\")\n",
        "plt.ylabel(\"Error measure\")\n",
        "plt.show()\n",
        "\n",
        "\n",
        "r_cfl=XGBClassifier(n_estimators=alpha[best_alpha],random_state=42,n_jobs=-1)\n",
        "r_cfl.fit(X_train,y_train)\n",
        "sig_clf = CalibratedClassifierCV(r_cfl, method=\"sigmoid\")\n",
        "sig_clf.fit(X_train, y_train)\n",
        "\n",
        "predict_y = r_cfl.predict_proba(X_train)\n",
        "print('For values of best alpha = ', alpha[best_alpha], \"The train log loss is:\",roc_auc_score(y_train, predict_y[:,1]))\n",
        "predict_y = r_cfl.predict_proba(X_test)\n",
        "print('For values of best alpha = ', alpha[best_alpha], \"The test log loss is:\",roc_auc_score(y_test, predict_y[:,1]))\n",
        "plot_confusion_matrix(y_test, r_cfl.predict(X_test))"
      ],
      "execution_count": 40,
      "outputs": [
        {
          "output_type": "stream",
          "text": [
            "For values of best alpha =  2000 The train log loss is: 0.8808372794442203\n",
            "For values of best alpha =  2000 The test log loss is: 0.874251207554807\n",
            "Number of misclassified points  13.92003255671991\n",
            "-------------------------------------------------- Confusion matrix --------------------------------------------------\n"
          ],
          "name": "stdout"
        },
        {
          "output_type": "display_data",
          "data": {
            "image/png": "[encoded data removed]",
            "text/plain": [
              "<Figure size 720x360 with 2 Axes>"
            ]
          },
          "metadata": {
            "tags": [],
            "needs_background": "light"
          }
        },
        {
          "output_type": "stream",
          "text": [
            "-------------------------------------------------- Precision matrix --------------------------------------------------\n"
          ],
          "name": "stdout"
        },
        {
          "output_type": "display_data",
          "data": {
            "image/png": "[encoded data removed]",
            "text/plain": [
              "<Figure size 720x360 with 2 Axes>"
            ]
          },
          "metadata": {
            "tags": [],
            "needs_background": "light"
          }
        },
        {
          "output_type": "stream",
          "text": [
            "Sum of columns in precision matrix [1. 1.]\n",
            "-------------------------------------------------- Recall matrix --------------------------------------------------\n"
          ],
          "name": "stdout"
        },
        {
          "output_type": "display_data",
          "data": {
            "image/png": "[encoded data removed]",
            "text/plain": [
              "<Figure size 720x360 with 2 Axes>"
            ]
          },
          "metadata": {
            "tags": [],
            "needs_background": "light"
          }
        },
        {
          "output_type": "stream",
          "text": [
            "Sum of rows in precision matrix [1. 1.]\n"
          ],
          "name": "stdout"
        }
      ]
    },
    {
      "cell_type": "code",
      "metadata": {
        "colab": {
          "base_uri": "https://localhost:8080/",
          "height": 279
        },
        "id": "9M-6MJvCX60L",
        "outputId": "019dde3d-2470-4654-e782-274bd61fd6b0"
      },
      "source": [
        "fpr, tpr, thresholds = roc_curve(y_test, predict_y[:,1])\n",
        "# plot the roc curve for the model\n",
        "plt.plot([0,1], [0,1], linestyle='--', label='No Skill')\n",
        "plt.plot(fpr, tpr, marker='.', label='Xgboost')\n",
        "# axis labels\n",
        "plt.xlabel('False Positive Rate')\n",
        "plt.ylabel('True Positive Rate')\n",
        "plt.legend()\n",
        "# show the plot\n",
        "plt.show()"
      ],
      "execution_count": null,
      "outputs": [
        {
          "output_type": "display_data",
          "data": {
            "image/png": "[encoded data removed]",
            "text/plain": [
              "<Figure size 432x288 with 1 Axes>"
            ]
          },
          "metadata": {
            "tags": []
          }
        }
      ]
    },
    {
      "cell_type": "code",
      "metadata": {
        "colab": {
          "base_uri": "https://localhost:8080/"
        },
        "id": "JFJdHHvnadtH",
        "outputId": "8478437c-2058-4f3d-81a4-bd611d3a1a72"
      },
      "source": [
        "x_cfl=XGBClassifier(nthread=-1)\n",
        "prams={\n",
        "'learning_rate':[0.01,0.03,0.05,0.1,0.15,0.2],\n",
        "'n_estimators':[100,200,500,1000,2000],\n",
        "'max_depth':[3,5,10,13],\n",
        "'colsample_bytree':[0.1,0.3,0.5,1],\n",
        "'subsample':[0.1,0.3,0.5,1]\n",
        "}\n",
        "random_cfl1=RandomizedSearchCV(x_cfl,param_distributions=prams,verbose=10,n_jobs=-1,)\n",
        "random_cfl1.fit(X_train,y_train)"
      ],
      "execution_count": 54,
      "outputs": [
        {
          "output_type": "stream",
          "text": [
            "Fitting 5 folds for each of 10 candidates, totalling 50 fits\n"
          ],
          "name": "stdout"
        },
        {
          "output_type": "stream",
          "text": [
            "[Parallel(n_jobs=-1)]: Using backend LokyBackend with 2 concurrent workers.\n",
            "[Parallel(n_jobs=-1)]: Done   1 tasks      | elapsed:  2.1min\n",
            "[Parallel(n_jobs=-1)]: Done   4 tasks      | elapsed:  4.2min\n",
            "[Parallel(n_jobs=-1)]: Done   9 tasks      | elapsed:  9.7min\n",
            "[Parallel(n_jobs=-1)]: Done  14 tasks      | elapsed: 41.7min\n",
            "[Parallel(n_jobs=-1)]: Done  21 tasks      | elapsed: 56.6min\n",
            "[Parallel(n_jobs=-1)]: Done  28 tasks      | elapsed: 82.1min\n",
            "[Parallel(n_jobs=-1)]: Done  37 tasks      | elapsed: 95.7min\n",
            "[Parallel(n_jobs=-1)]: Done  46 tasks      | elapsed: 97.9min\n",
            "[Parallel(n_jobs=-1)]: Done  50 out of  50 | elapsed: 98.3min finished\n"
          ],
          "name": "stderr"
        },
        {
          "output_type": "execute_result",
          "data": {
            "text/plain": [
              "RandomizedSearchCV(cv=None, error_score=nan,\n",
              "                   estimator=XGBClassifier(base_score=0.5, booster='gbtree',\n",
              "                                           colsample_bylevel=1,\n",
              "                                           colsample_bynode=1,\n",
              "                                           colsample_bytree=1, gamma=0,\n",
              "                                           learning_rate=0.1, max_delta_step=0,\n",
              "                                           max_depth=3, min_child_weight=1,\n",
              "                                           missing=None, n_estimators=100,\n",
              "                                           n_jobs=1, nthread=-1,\n",
              "                                           objective='binary:logistic',\n",
              "                                           random_state=0, reg_alpha=0,\n",
              "                                           reg_lambda=1, s...\n",
              "                                           seed=None, silent=None, subsample=1,\n",
              "                                           verbosity=1),\n",
              "                   iid='deprecated', n_iter=10, n_jobs=-1,\n",
              "                   param_distributions={'colsample_bytree': [0.1, 0.3, 0.5, 1],\n",
              "                                        'learning_rate': [0.01, 0.03, 0.05, 0.1,\n",
              "                                                          0.15, 0.2],\n",
              "                                        'max_depth': [3, 5, 10, 13],\n",
              "                                        'n_estimators': [100, 200, 500, 1000,\n",
              "                                                         2000],\n",
              "                                        'subsample': [0.1, 0.3, 0.5, 1]},\n",
              "                   pre_dispatch='2*n_jobs', random_state=None, refit=True,\n",
              "                   return_train_score=False, scoring=None, verbose=10)"
            ]
          },
          "metadata": {
            "tags": []
          },
          "execution_count": 54
        }
      ]
    },
    {
      "cell_type": "code",
      "metadata": {
        "colab": {
          "base_uri": "https://localhost:8080/"
        },
        "id": "b8u_gbx5qaen",
        "outputId": "5c0a520f-7ddc-48ba-a9b9-1265759c8590"
      },
      "source": [
        "#Using best parameters\n",
        "r_cfl=XGBClassifier(n_estimators=100,random_state=42,n_jobs=-1,colsample_bytree= .5, learning_rate= 0.15, max_depth= 5,subsample= 1)\n",
        "r_cfl.fit(X_train,y_train)\n",
        "predict_y = r_cfl.predict_proba(X_train)\n",
        "print('For values of best alpha = ', alpha[best_alpha], \"The train log loss is:\",roc_auc_score(y_train, predict_y[:,1]))\n",
        "predict_y = r_cfl.predict_proba(X_test)\n",
        "print('For values of best alpha = ', alpha[best_alpha], \"The test log loss is:\",roc_auc_score(y_test, predict_y[:,1]))"
      ],
      "execution_count": null,
      "outputs": [
        {
          "output_type": "stream",
          "text": [
            "For values of best alpha =  2000 The train log loss is: 0.8781640231975774\n",
            "For values of best alpha =  2000 The test log loss is: 0.874769013706292\n"
          ],
          "name": "stdout"
        }
      ]
    },
    {
      "cell_type": "markdown",
      "metadata": {
        "id": "bMg7PJD7Wyi2"
      },
      "source": [
        "#**For submission**"
      ]
    },
    {
      "cell_type": "code",
      "metadata": {
        "id": "J2R43g86tCx1"
      },
      "source": [
        "y=r_cfl.predict_proba(test_merge)"
      ],
      "execution_count": 51,
      "outputs": []
    },
    {
      "cell_type": "code",
      "metadata": {
        "id": "UKVDJCwQK1jO"
      },
      "source": [
        "y=pd.DataFrame(y[:,1])\n",
        "y=pd.concat([ID,y],axis=1)\n",
        "y.columns=['ID','Is_Lead']\n",
        "y.to_csv('xgboost_ultimatebest.csv',index=None)"
      ],
      "execution_count": 52,
      "outputs": []
    },
    {
      "cell_type": "code",
      "metadata": {
        "colab": {
          "base_uri": "https://localhost:8080/",
          "height": 424
        },
        "id": "Rwk2AFZskwvE",
        "outputId": "aa6d953e-e641-48d0-bfd5-ab535e56abd1"
      },
      "source": [
        "y"
      ],
      "execution_count": 53,
      "outputs": [
        {
          "output_type": "execute_result",
          "data": {
            "text/html": [
              "<div>\n",
              "<style scoped>\n",
              "    .dataframe tbody tr th:only-of-type {\n",
              "        vertical-align: middle;\n",
              "    }\n",
              "\n",
              "    .dataframe tbody tr th {\n",
              "        vertical-align: top;\n",
              "    }\n",
              "\n",
              "    .dataframe thead th {\n",
              "        text-align: right;\n",
              "    }\n",
              "</style>\n",
              "<table border=\"1\" class=\"dataframe\">\n",
              "  <thead>\n",
              "    <tr style=\"text-align: right;\">\n",
              "      <th></th>\n",
              "      <th>ID</th>\n",
              "      <th>Is_Lead</th>\n",
              "    </tr>\n",
              "  </thead>\n",
              "  <tbody>\n",
              "    <tr>\n",
              "      <th>0</th>\n",
              "      <td>VBENBARO</td>\n",
              "      <td>0.036904</td>\n",
              "    </tr>\n",
              "    <tr>\n",
              "      <th>1</th>\n",
              "      <td>CCMEWNKY</td>\n",
              "      <td>0.870731</td>\n",
              "    </tr>\n",
              "    <tr>\n",
              "      <th>2</th>\n",
              "      <td>VK3KGA9M</td>\n",
              "      <td>0.061524</td>\n",
              "    </tr>\n",
              "    <tr>\n",
              "      <th>3</th>\n",
              "      <td>TT8RPZVC</td>\n",
              "      <td>0.024009</td>\n",
              "    </tr>\n",
              "    <tr>\n",
              "      <th>4</th>\n",
              "      <td>SHQZEYTZ</td>\n",
              "      <td>0.023288</td>\n",
              "    </tr>\n",
              "    <tr>\n",
              "      <th>...</th>\n",
              "      <td>...</td>\n",
              "      <td>...</td>\n",
              "    </tr>\n",
              "    <tr>\n",
              "      <th>105307</th>\n",
              "      <td>DBENJOYI</td>\n",
              "      <td>0.988340</td>\n",
              "    </tr>\n",
              "    <tr>\n",
              "      <th>105308</th>\n",
              "      <td>CWQ72DWS</td>\n",
              "      <td>0.556661</td>\n",
              "    </tr>\n",
              "    <tr>\n",
              "      <th>105309</th>\n",
              "      <td>HDESC8GU</td>\n",
              "      <td>0.072785</td>\n",
              "    </tr>\n",
              "    <tr>\n",
              "      <th>105310</th>\n",
              "      <td>2PW4SFCA</td>\n",
              "      <td>0.219891</td>\n",
              "    </tr>\n",
              "    <tr>\n",
              "      <th>105311</th>\n",
              "      <td>F2NOYPPZ</td>\n",
              "      <td>0.050773</td>\n",
              "    </tr>\n",
              "  </tbody>\n",
              "</table>\n",
              "<p>105312 rows × 2 columns</p>\n",
              "</div>"
            ],
            "text/plain": [
              "              ID   Is_Lead\n",
              "0       VBENBARO  0.036904\n",
              "1       CCMEWNKY  0.870731\n",
              "2       VK3KGA9M  0.061524\n",
              "3       TT8RPZVC  0.024009\n",
              "4       SHQZEYTZ  0.023288\n",
              "...          ...       ...\n",
              "105307  DBENJOYI  0.988340\n",
              "105308  CWQ72DWS  0.556661\n",
              "105309  HDESC8GU  0.072785\n",
              "105310  2PW4SFCA  0.219891\n",
              "105311  F2NOYPPZ  0.050773\n",
              "\n",
              "[105312 rows x 2 columns]"
            ]
          },
          "metadata": {
            "tags": []
          },
          "execution_count": 53
        }
      ]
    }
  ]
}